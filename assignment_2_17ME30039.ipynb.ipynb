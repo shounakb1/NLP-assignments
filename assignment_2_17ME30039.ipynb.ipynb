{
 "cells": [
  {
   "cell_type": "code",
   "execution_count": 16,
   "metadata": {},
   "outputs": [],
   "source": [
    "import glob\n",
    "from itertools import chain\n",
    "import sklearn_crfsuite\n",
    "from sklearn_crfsuite import scorers\n",
    "import nltk\n",
    "import sklearn\n",
    "import scipy.stats\n",
    "from sklearn.metrics import make_scorer\n",
    "from sklearn.model_selection import RandomizedSearchCV\n",
    "import os\n",
    "from sklearn.model_selection import cross_val_score\n",
    "from sklearn_crfsuite import metrics"
   ]
  },
  {
   "cell_type": "code",
   "execution_count": 5,
   "metadata": {},
   "outputs": [],
   "source": [
    "# deleted the first line from both train and test corpus\n",
    "f=open('hi-ud-train.conllu')\n",
    "f_test=open('hi-ud-test.conllu')\n",
    "train=f.read()\n",
    "test=f_test.read()"
   ]
  },
  {
   "cell_type": "code",
   "execution_count": 7,
   "metadata": {},
   "outputs": [],
   "source": [
    "c=[]\n",
    "store = []\n",
    "for line in train.split('\\n'):\n",
    "    words=line.split(',') \n",
    "\n",
    "    if words[0]==\"\":\n",
    "        c.append(store)\n",
    "        store=[]\n",
    "\n",
    "    elif words[1]==\"\":\n",
    "        store.append((',',words[2]))\n",
    "    else:\n",
    "        store.append((words[1],words[2]))\n",
    "    "
   ]
  },
  {
   "cell_type": "code",
   "execution_count": 8,
   "metadata": {},
   "outputs": [],
   "source": [
    "c_test=[]\n",
    "store = []\n",
    "for line in test.split('\\n'):\n",
    "    words=line.split('\\t') \n",
    "    \n",
    "    if words[0]==\"\":\n",
    "        c_test.append(store)\n",
    "        store=[]\n",
    "\n",
    "    elif words[1]==\"\":\n",
    "        store.append((',',words[2]))\n",
    "    else:\n",
    "        store.append((words[1],words[2]))\n"
   ]
  },
  {
   "cell_type": "code",
   "execution_count": 9,
   "metadata": {},
   "outputs": [],
   "source": [
    "train_sent = c\n",
    "test_sent = c_test"
   ]
  },
  {
   "cell_type": "code",
   "execution_count": 11,
   "metadata": {},
   "outputs": [],
   "source": [
    "def word2features(sent, i):\n",
    "    word = sent[i][0]\n",
    "    postag = sent[i][1]\n",
    "## These are the features related to current word i\n",
    "    features = {\n",
    "        'bias': 1.0,\n",
    "        'word.lower()': word.lower(),\n",
    "        'word[-3:]': word[-3:],\n",
    "        'word[-2:]': word[-2:],\n",
    "        'word.isupper()': word.isupper(),\n",
    "        'word.istitle()': word.istitle(),\n",
    "        'word.isdigit()': word.isdigit(),\n",
    "        'postag': postag,\n",
    "        'postag[:2]': postag[:2],\n",
    "    }\n",
    "    if i > 0:                                   ##These are the features related to the last word\n",
    "        word1 = sent[i-1][0]\n",
    "        postag1 = sent[i-1][1]\n",
    "        \n",
    "        features.update({\n",
    "            '-1:word.lower()': word1.lower(),\n",
    "            '-1:word.istitle()': word1.istitle(),\n",
    "            '-1:word.isupper()': word1.isupper(),\n",
    "            '-1:postag': postag1,\n",
    "            '-1:postag[:2]': postag1[:2],\n",
    "        })\n",
    "    else:\n",
    "        features['BOS'] = True\n",
    "\n",
    "    if i < len(sent)-1:                      ##These are the features related to the next word\n",
    "        word1 = sent[i+1][0]\n",
    "        postag1 = sent[i+1][1]\n",
    "        ## +1 features are for next word\n",
    "        features.update({\n",
    "            '+1:word.lower()': word1.lower(),\n",
    "            '+1:word.istitle()': word1.istitle(),\n",
    "            '+1:word.isupper()': word1.isupper(),\n",
    "            '+1:postag': postag1,\n",
    "            '+1:postag[:2]': postag1[:2],\n",
    "        })\n",
    "    else:\n",
    "        features['EOS'] = True\n",
    "\n",
    "    return features\n",
    "\n",
    "def sent2features(sent):\n",
    "    return [word2features(sent, i) for i in range(len(sent))]  # makes features for sent\n",
    "\n",
    "def sent2label(sent):\n",
    "    return [postag for token, postag in sent] ## labels of words in sent\n"
   ]
  },
  {
   "cell_type": "code",
   "execution_count": 14,
   "metadata": {},
   "outputs": [
    {
     "name": "stdout",
     "output_type": "stream",
     "text": [
      "CPU times: user 31.7 ms, sys: 8.04 ms, total: 39.8 ms\n",
      "Wall time: 40.3 ms\n"
     ]
    }
   ],
   "source": [
    "%%time\n",
    "X_train=[sent2features(s) for s in train_sent]\n",
    "Y_train=[sent2label(s) for s in train_sent]\n",
    "X_test=[sent2features(s) for s in test_sent]\n",
    "Y_test=[sent2label(s) for s in test_sent]"
   ]
  },
  {
   "cell_type": "code",
   "execution_count": 17,
   "metadata": {},
   "outputs": [
    {
     "name": "stdout",
     "output_type": "stream",
     "text": [
      "CPU times: user 732 ms, sys: 7.49 ms, total: 740 ms\n",
      "Wall time: 739 ms\n"
     ]
    },
    {
     "data": {
      "text/plain": [
       "CRF(algorithm='lbfgs', all_possible_states=None, all_possible_transitions=True,\n",
       "    averaging=None, c=None, c1=0.1, c2=0.1, calibration_candidates=None,\n",
       "    calibration_eta=None, calibration_max_trials=None, calibration_rate=None,\n",
       "    calibration_samples=None, delta=None, epsilon=None, error_sensitive=None,\n",
       "    gamma=None, keep_tempfiles=None, linesearch=None, max_iterations=100,\n",
       "    max_linesearch=None, min_freq=None, model_filename=None, num_memories=None,\n",
       "    pa_type=None, period=None, trainer_cls=None, variance=None, verbose=False)"
      ]
     },
     "execution_count": 17,
     "metadata": {},
     "output_type": "execute_result"
    }
   ],
   "source": [
    "%%time\n",
    "## c1 and c2 are the L1 and L2 regularization coefficients\n",
    "crf = sklearn_crfsuite.CRF(\n",
    "    algorithm='lbfgs',\n",
    "    c2=0.1,\n",
    "    c1=0.1,\n",
    "    max_iterations=100,\n",
    "    all_possible_transitions=True\n",
    ")\n",
    "crf.fit(X_train, Y_train)"
   ]
  },
  {
   "cell_type": "code",
   "execution_count": 20,
   "metadata": {},
   "outputs": [],
   "source": [
    "tags=list(crf.classes_)"
   ]
  },
  {
   "cell_type": "code",
   "execution_count": 21,
   "metadata": {},
   "outputs": [
    {
     "name": "stdout",
     "output_type": "stream",
     "text": [
      "              precision    recall  f1-score   support\n",
      "\n",
      "         ADJ      1.000     1.000     1.000        94\n",
      "         ADP      1.000     1.000     1.000       309\n",
      "         ADV      1.000     1.000     1.000        21\n",
      "         AUX      1.000     1.000     1.000       139\n",
      "       CCONJ      1.000     1.000     1.000        25\n",
      "       COMMA      0.000     0.000     0.000         0\n",
      "         DET      1.000     1.000     1.000        36\n",
      "        NOUN      1.000     1.000     1.000       329\n",
      "         NUM      1.000     1.000     1.000        25\n",
      "        PART      1.000     1.000     1.000        33\n",
      "        PRON      1.000     1.000     1.000        65\n",
      "       PROPN      1.000     1.000     1.000       145\n",
      "       PUNCT      1.000     1.000     1.000       135\n",
      "       SCONJ      1.000     1.000     1.000         3\n",
      "        VERB      1.000     1.000     1.000        99\n",
      "           X      0.000     0.000     0.000         0\n",
      "\n",
      "   micro avg      1.000     1.000     1.000      1458\n",
      "   macro avg      0.875     0.875     0.875      1458\n",
      "weighted avg      1.000     1.000     1.000      1458\n",
      "\n"
     ]
    },
    {
     "name": "stderr",
     "output_type": "stream",
     "text": [
      "/home/shounak/anaconda3/lib/python3.7/site-packages/sklearn/metrics/classification.py:1437: UndefinedMetricWarning: F-score is ill-defined and being set to 0.0 in labels with no predicted samples.\n",
      "  'precision', 'predicted', average, warn_for)\n",
      "/home/shounak/anaconda3/lib/python3.7/site-packages/sklearn/metrics/classification.py:1439: UndefinedMetricWarning: F-score is ill-defined and being set to 0.0 in labels with no true samples.\n",
      "  'recall', 'true', average, warn_for)\n",
      "/home/shounak/anaconda3/lib/python3.7/site-packages/sklearn/metrics/classification.py:1437: UndefinedMetricWarning: Precision and F-score are ill-defined and being set to 0.0 in labels with no predicted samples.\n",
      "  'precision', 'predicted', average, warn_for)\n",
      "/home/shounak/anaconda3/lib/python3.7/site-packages/sklearn/metrics/classification.py:1439: UndefinedMetricWarning: Recall and F-score are ill-defined and being set to 0.0 in labels with no true samples.\n",
      "  'recall', 'true', average, warn_for)\n"
     ]
    }
   ],
   "source": [
    "y_pred = crf.predict(X_test)\n",
    "metrics.flat_f1_score(Y_test, y_pred,average='weighted', labels=tags)\n",
    "print(metrics.flat_classification_report(\n",
    "    Y_test, y_pred, labels=sorted(tags), digits=3))\n"
   ]
  },
  {
   "cell_type": "code",
   "execution_count": 25,
   "metadata": {},
   "outputs": [
    {
     "name": "stdout",
     "output_type": "stream",
     "text": [
      "Top 10 likely transitions:\n",
      "VERB   -> AUX     0.99159\n",
      "AUX    -> PUNCT   0.75910\n",
      "NOUN   -> ADP     0.69290\n",
      "AUX    -> AUX     0.67332\n",
      "PROPN  -> ADP     0.64213\n",
      "PROPN  -> PROPN   0.58835\n",
      "ADJ    -> NOUN    0.48945\n",
      "DET    -> NOUN    0.46631\n",
      "AUX    -> SCONJ   0.38395\n",
      "NUM    -> NOUN    0.36026\n",
      "\n",
      "Top 10 unlikely transitions:\n",
      "ADP    -> AUX     -0.22032\n",
      "NOUN   -> ADJ     -0.21160\n",
      "AUX    -> NOUN    -0.19853\n",
      "ADP    -> CCONJ   -0.19264\n",
      "PROPN  -> PRON    -0.17453\n",
      "PROPN  -> ADJ     -0.16758\n",
      "ADJ    -> ADP     -0.15779\n",
      "ADJ    -> PRON    -0.14183\n",
      "VERB   -> NOUN    -0.14139\n",
      "ADP    -> COMMA   -0.10075\n"
     ]
    }
   ],
   "source": [
    "from collections import Counter\n",
    "\n",
    "def print_transitions(features):\n",
    "    for (frm, to), w in features:\n",
    "        print(\"%-6s -> %-7s %0.5f\" % (frm, to, w))\n",
    "\n",
    "print(\"Top 10 likely transitions:\")\n",
    "print_transitions(Counter(crf.transition_features_).most_common(10))\n",
    "\n",
    "print(\"\\nTop 10 unlikely transitions:\")\n",
    "length=len(Counter(crf.transition_features_).most_common())\n",
    "print_transitions(Counter(crf.transition_features_).most_common()[length-1:length-11:-1])"
   ]
  },
  {
   "cell_type": "code",
   "execution_count": 26,
   "metadata": {
    "scrolled": true
   },
   "outputs": [
    {
     "name": "stdout",
     "output_type": "stream",
     "text": [
      "Fitting 3 folds for each of 50 candidates, totalling 150 fits\n"
     ]
    },
    {
     "name": "stderr",
     "output_type": "stream",
     "text": [
      "[Parallel(n_jobs=-1)]: Using backend LokyBackend with 4 concurrent workers.\n",
      "[Parallel(n_jobs=-1)]: Done  42 tasks      | elapsed:   23.2s\n",
      "[Parallel(n_jobs=-1)]: Done 150 out of 150 | elapsed:  1.4min finished\n"
     ]
    },
    {
     "name": "stdout",
     "output_type": "stream",
     "text": [
      "CPU times: user 1min 26s, sys: 268 ms, total: 1min 26s\n",
      "Wall time: 1min 27s\n"
     ]
    },
    {
     "data": {
      "text/plain": [
       "RandomizedSearchCV(cv=3, error_score='raise-deprecating',\n",
       "                   estimator=CRF(algorithm='lbfgs', all_possible_states=None,\n",
       "                                 all_possible_transitions=True, averaging=None,\n",
       "                                 c=None, c1=None, c2=None,\n",
       "                                 calibration_candidates=None,\n",
       "                                 calibration_eta=None,\n",
       "                                 calibration_max_trials=None,\n",
       "                                 calibration_rate=None,\n",
       "                                 calibration_samples=None, delta=None,\n",
       "                                 epsilon=None, error_sensitive=None,...\n",
       "                   param_distributions={'c1': <scipy.stats._distn_infrastructure.rv_frozen object at 0x7fa519e650b8>,\n",
       "                                        'c2': <scipy.stats._distn_infrastructure.rv_frozen object at 0x7fa519dd6e48>},\n",
       "                   pre_dispatch='2*n_jobs', random_state=None, refit=True,\n",
       "                   return_train_score=False,\n",
       "                   scoring=make_scorer(flat_f1_score, average=weighted, labels=['DET', 'PROPN', 'ADP', 'ADV', 'ADJ', 'NOUN', 'NUM', 'AUX', 'PUNCT', 'PRON', 'VERB', 'CCONJ', 'PART', 'COMMA', 'SCONJ', 'X']),\n",
       "                   verbose=1)"
      ]
     },
     "execution_count": 26,
     "metadata": {},
     "output_type": "execute_result"
    }
   ],
   "source": [
    "%%time\n",
    "\n",
    "crf = sklearn_crfsuite.CRF(\n",
    "    algorithm='lbfgs', \n",
    "    max_iterations=100, \n",
    "    all_possible_transitions=True\n",
    ")\n",
    "params_space = {\n",
    "    'c1': scipy.stats.expon(scale=0.5),\n",
    "    'c2': scipy.stats.expon(scale=0.05),\n",
    "}\n",
    "\n",
    "# use the same metric for evaluation\n",
    "f1_scorer = make_scorer(metrics.flat_f1_score, \n",
    "                        average='weighted', labels=tags)\n",
    "\n",
    "# searching the params_space\n",
    "rs = RandomizedSearchCV(crf, params_space, \n",
    "                        cv=3, \n",
    "                        verbose=1, \n",
    "                        n_jobs=-1, \n",
    "                        n_iter=50, \n",
    "                        scoring=f1_scorer)\n",
    "rs.fit(X_train, Y_train)"
   ]
  },
  {
   "cell_type": "code",
   "execution_count": 28,
   "metadata": {},
   "outputs": [
    {
     "name": "stdout",
     "output_type": "stream",
     "text": [
      "best parameters: {'c1': 0.6101995873514603, 'c2': 0.06964630842266561}\n",
      "best Cross Validation score: 0.9995914957414596\n",
      "model size: 0.01M\n"
     ]
    }
   ],
   "source": [
    "## Best parameters found\n",
    "print('best parameters:', rs.best_params_)\n",
    "print('best Cross Validation score:', rs.best_score_)\n",
    "print('model size: {:0.2f}M'.format(rs.best_estimator_.size_ / 1000000))\n"
   ]
  },
  {
   "cell_type": "code",
   "execution_count": null,
   "metadata": {
    "collapsed": true
   },
   "outputs": [],
   "source": []
  }
 ],
 "metadata": {
  "kernelspec": {
   "display_name": "Python 3",
   "language": "python",
   "name": "python3"
  },
  "language_info": {
   "codemirror_mode": {
    "name": "ipython",
    "version": 3
   },
   "file_extension": ".py",
   "mimetype": "text/x-python",
   "name": "python",
   "nbconvert_exporter": "python",
   "pygments_lexer": "ipython3",
   "version": "3.7.3"
  }
 },
 "nbformat": 4,
 "nbformat_minor": 2
}
